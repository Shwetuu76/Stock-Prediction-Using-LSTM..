{
 "cells": [
  {
   "cell_type": "code",
   "execution_count": 6,
   "id": "0df5d439",
   "metadata": {},
   "outputs": [],
   "source": [
    "import numpy as np\n",
    "import pandas as pd\n",
    "from sklearn.preprocessing import MinMaxScaler\n",
    "import matplotlib.pyplot as plt"
   ]
  },
  {
   "cell_type": "code",
   "execution_count": 7,
   "id": "27f937dc",
   "metadata": {},
   "outputs": [],
   "source": [
    "import torch\n",
    "import torch.nn as nn\n"
   ]
  },
  {
   "cell_type": "code",
   "execution_count": 8,
   "id": "f538b1a9",
   "metadata": {},
   "outputs": [
    {
     "data": {
      "text/plain": [
       "'C:\\\\Users\\\\hp'"
      ]
     },
     "execution_count": 8,
     "metadata": {},
     "output_type": "execute_result"
    }
   ],
   "source": [
    "pwd\n"
   ]
  },
  {
   "cell_type": "code",
   "execution_count": 10,
   "id": "903a93e7",
   "metadata": {},
   "outputs": [],
   "source": [
    "df= pd.read_csv('netflix.csv')\n",
    "closed_prices = df[\"Close\"]"
   ]
  },
  {
   "cell_type": "code",
   "execution_count": 28,
   "id": "ac749dd1",
   "metadata": {},
   "outputs": [
    {
     "name": "stdout",
     "output_type": "stream",
     "text": [
      "<class 'pandas.core.frame.DataFrame'>\n",
      "RangeIndex: 4881 entries, 0 to 4880\n",
      "Data columns (total 7 columns):\n",
      " #   Column     Non-Null Count  Dtype  \n",
      "---  ------     --------------  -----  \n",
      " 0   Date       4881 non-null   object \n",
      " 1   High       4881 non-null   float64\n",
      " 2   Low        4881 non-null   float64\n",
      " 3   Open       4881 non-null   float64\n",
      " 4   Close      4881 non-null   float64\n",
      " 5   Volume     4881 non-null   float64\n",
      " 6   Adj Close  4881 non-null   float64\n",
      "dtypes: float64(6), object(1)\n",
      "memory usage: 267.1+ KB\n"
     ]
    }
   ],
   "source": [
    "df.info()"
   ]
  },
  {
   "cell_type": "code",
   "execution_count": 29,
   "id": "fb2be44a",
   "metadata": {},
   "outputs": [],
   "source": [
    "seq_len = 15"
   ]
  },
  {
   "cell_type": "code",
   "execution_count": 12,
   "id": "2091ef9c",
   "metadata": {},
   "outputs": [],
   "source": [
    "mm = MinMaxScaler()\n",
    "scaled_price = mm.fit_transform(np.array(closed_prices)[... , None]).squeeze()\n",
    "\n"
   ]
  },
  {
   "cell_type": "code",
   "execution_count": 13,
   "id": "b38e14ee",
   "metadata": {},
   "outputs": [],
   "source": [
    "X=[]\n",
    "Y=[]"
   ]
  },
  {
   "cell_type": "code",
   "execution_count": 14,
   "id": "c79d2846",
   "metadata": {},
   "outputs": [],
   "source": [
    "for i in range(len(scaled_price) - seq_len):\n",
    "    X.append(scaled_price[i : i+ seq_len])\n",
    "    Y.append(scaled_price[i+seq_len])\n"
   ]
  },
  {
   "cell_type": "code",
   "execution_count": 15,
   "id": "0794d3c1",
   "metadata": {},
   "outputs": [],
   "source": [
    "X = np.array(X)[... , None]\n",
    "Y = np.array(Y)[... ,None]"
   ]
  },
  {
   "cell_type": "code",
   "execution_count": 16,
   "id": "c779c9c5",
   "metadata": {},
   "outputs": [],
   "source": [
    "train_x = torch.from_numpy(X[:int(0.8*X.shape[0])]).float()\n",
    "train_y = torch.from_numpy(Y[:int(0.8*Y.shape[0])]).float()\n",
    "test_x = torch.from_numpy(X[:int(0.8*X.shape[0])]).float()\n",
    "test_y = torch.from_numpy(Y[:int(0.8*Y.shape[0])]).float()\n"
   ]
  },
  {
   "cell_type": "code",
   "execution_count": 17,
   "id": "3a9d20d3",
   "metadata": {},
   "outputs": [],
   "source": [
    "class Model(nn.Module):\n",
    "    def __init__(self,input_size,hidden_size):\n",
    "        super().__init__()\n",
    "        self.lstm = nn.LSTM(input_size , hidden_size,batch_first=True)\n",
    "        self.fc=nn.Linear(hidden_size, 1)\n",
    "    def forward(self , x):\n",
    "        output,(hidden,cell)=self.lstm(x)\n",
    "        return self.fc(hidden[-1,:])"
   ]
  },
  {
   "cell_type": "code",
   "execution_count": 18,
   "id": "fd8bd55a",
   "metadata": {},
   "outputs": [],
   "source": [
    "model = Model(1,64)\n"
   ]
  },
  {
   "cell_type": "code",
   "execution_count": 19,
   "id": "5624e85f",
   "metadata": {},
   "outputs": [],
   "source": [
    "optimizer=torch.optim.Adam(model.parameters(), lr=0.001)\n"
   ]
  },
  {
   "cell_type": "code",
   "execution_count": 20,
   "id": "01c43e56",
   "metadata": {},
   "outputs": [],
   "source": [
    "loss_fn = nn.MSELoss()"
   ]
  },
  {
   "cell_type": "code",
   "execution_count": 21,
   "id": "9705ea4d",
   "metadata": {},
   "outputs": [],
   "source": [
    "num_epochs=100"
   ]
  },
  {
   "cell_type": "code",
   "execution_count": 22,
   "id": "8ba37a93",
   "metadata": {},
   "outputs": [
    {
     "name": "stdout",
     "output_type": "stream",
     "text": [
      "10 epoch loss 0.004990067\n",
      "20 epoch loss 0.004500247\n",
      "30 epoch loss 0.0039399187\n",
      "40 epoch loss 0.0031492459\n",
      "50 epoch loss 0.0015396364\n",
      "60 epoch loss 0.0004177213\n",
      "70 epoch loss 9.447892e-05\n",
      "80 epoch loss 3.3187076e-05\n",
      "90 epoch loss 3.7527832e-05\n"
     ]
    }
   ],
   "source": [
    "for epoch in range(num_epochs):\n",
    "    output = model(train_x)\n",
    "    loss=loss_fn(output,train_y)\n",
    "    \n",
    "    optimizer.zero_grad()\n",
    "    loss.backward()\n",
    "    optimizer.step()\n",
    "    \n",
    "    if epoch % 10==0 and epoch !=0:\n",
    "        print(epoch , \"epoch loss\", loss.detach().numpy())\n",
    "\n"
   ]
  },
  {
   "cell_type": "code",
   "execution_count": 23,
   "id": "6e41d804",
   "metadata": {},
   "outputs": [],
   "source": [
    "model.eval()\n",
    "with torch.no_grad():\n",
    "    output=model(test_x)"
   ]
  },
  {
   "cell_type": "code",
   "execution_count": 24,
   "id": "6f4a1117",
   "metadata": {},
   "outputs": [],
   "source": [
    "pred=mm.inverse_transform(output.numpy())\n",
    "real=mm.inverse_transform(test_y.numpy())\n"
   ]
  },
  {
   "cell_type": "code",
   "execution_count": 26,
   "id": "272475dd",
   "metadata": {},
   "outputs": [
    {
     "data": {
      "image/png": "[encoded data removed]",
      "text/plain": [
       "<Figure size 640x480 with 1 Axes>"
      ]
     },
     "metadata": {},
     "output_type": "display_data"
    }
   ],
   "source": [
    "plt.plot(pred.squeeze(),color=\"orange\",label=\"predicted\")\n",
    "plt.plot(real.squeeze(),color=\"blue\",label=\"real\")\n",
    "plt.show()\n"
   ]
  },
  {
   "cell_type": "code",
   "execution_count": null,
   "id": "4ec57d2d",
   "metadata": {},
   "outputs": [],
   "source": []
  }
 ],
 "metadata": {
  "kernelspec": {
   "display_name": "Python 3 (ipykernel)",
   "language": "python",
   "name": "python3"
  },
  "language_info": {
   "codemirror_mode": {
    "name": "ipython",
    "version": 3
   },
   "file_extension": ".py",
   "mimetype": "text/x-python",
   "name": "python",
   "nbconvert_exporter": "python",
   "pygments_lexer": "ipython3",
   "version": "3.11.5"
  }
 },
 "nbformat": 4,
 "nbformat_minor": 5
}
